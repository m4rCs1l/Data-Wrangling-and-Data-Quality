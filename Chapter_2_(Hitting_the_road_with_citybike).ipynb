{
  "nbformat": 4,
  "nbformat_minor": 0,
  "metadata": {
    "colab": {
      "provenance": [],
      "mount_file_id": "1Jp1eV_F9HHBBSbiBrpnuECNtLtIvMavC",
      "authorship_tag": "ABX9TyPj68wGnEK1msy8A5feZPL3",
      "include_colab_link": true
    },
    "kernelspec": {
      "name": "python3",
      "display_name": "Python 3"
    },
    "language_info": {
      "name": "python"
    }
  },
  "cells": [
    {
      "cell_type": "markdown",
      "metadata": {
        "id": "view-in-github",
        "colab_type": "text"
      },
      "source": [
        "<a href=\"https://colab.research.google.com/github/m4rCs1l/Data-Wrangling-and-Data-Quality/blob/main/Chapter_2_(Hitting_the_road_with_citybike).ipynb\" target=\"_parent\"><img src=\"https://colab.research.google.com/assets/colab-badge.svg\" alt=\"Open In Colab\"/></a>"
      ]
    },
    {
      "cell_type": "markdown",
      "source": [
        "1. Locating or collecting data\n",
        "2. Assessing the data’s quality\n",
        "3. “Cleaning,” standardizing, and/or transforming the data\n",
        "4. Analyzing the data\n",
        "5. Visualizing the data\n",
        "6. Communicating the data"
      ],
      "metadata": {
        "id": "V0W24jIS82Gb"
      }
    },
    {
      "cell_type": "markdown",
      "source": [
        "For this exercise, we’re going to focus on steps 1–4, though as you’ll see,\n",
        "I’ve done some preparation that will cut down on how long we spend with\n",
        "certain steps. For example, I’ve already located the Citi Bike system data\n",
        "and downloaded the September 2020 trip history data, confirmed that the\n",
        "only values that appear in the User Type column are Customer and\n",
        "Subscriber, and cut down the whole September dataset to just the rides\n",
        "that began on September 1, 2020."
      ],
      "metadata": {
        "id": "XziJrquH9ICJ"
      }
    },
    {
      "cell_type": "markdown",
      "source": [
        "One of the best ways to get started with a data wrangling project of any size\n",
        "is to plan out your approach in advance and include that program outline in\n",
        "you Python file through a process known as pseudocoding"
      ],
      "metadata": {
        "id": "bnfa5ewgBJH0"
      }
    },
    {
      "cell_type": "markdown",
      "source": [
        "1. State my question.\n",
        "2. Describe how I will “answer” my question.\n",
        "3. Outline in plain language the steps my program will take."
      ],
      "metadata": {
        "id": "Rs567UDYBSu6"
      }
    },
    {
      "cell_type": "markdown",
      "source": [
        "**question**: How many Citi Bike rides each day are taken by\n",
        "\"subscribers\" versus \"customers\"?\n",
        "\n",
        "\n",
        "**answer**: Choose a single day of rides to examine.\n",
        "the dataset used for this exercise was generated from the\n",
        "original\n",
        "Citi Bike system data found here:\n",
        "https://s3.amazonaws.com/tripdata/index.html\n",
        "filename: 202009-citibike-tripdata.csv.zip\n",
        "\n",
        "\n",
        "**program Outline:**\n",
        "1. read in the data file: 202009CitibikeTripdataExample.csv\n",
        "2. create variables to count: subscribers, customers, and other\n",
        "3. for each row in the file:\n",
        "\n",
        "    a. If the \"User Type\" is \"Subscriber,\" add 1 to\n",
        "\"subscriber_count\"\n",
        "\n",
        "    b. If the \"User Type\" is \"Customer,\" add 1 to\n",
        "\"customer_count\"\n",
        "\n",
        "    c. Otherwise, add 1 to the \"other\" variable\n",
        "4. print out my results"
      ],
      "metadata": {
        "id": "9RCQMG5fBfQ7"
      }
    },
    {
      "cell_type": "code",
      "source": [
        "import csv"
      ],
      "metadata": {
        "id": "mtHq0nUlBIky"
      },
      "execution_count": null,
      "outputs": []
    },
    {
      "cell_type": "markdown",
      "source": [
        "open the `202009CitibikeTripdataExample.csv` file in read (\"r\")\n",
        "mode"
      ],
      "metadata": {
        "id": "ZDl07kspEZAi"
      }
    },
    {
      "cell_type": "code",
      "source": [
        "!wget \"https://drive.google.com/file/d/1zaXBMFZm-nr9XyRuAtCb1oiYI52WDstL/view?usp=sharing\"\n",
        "# https://drive.google.com/file/d/1zaXBMFZm-nr9XyRuAtCb1oiYI52WDstL/view?usp=sharing\n",
        "# https://drive.google.com/uc?export=download&id=1UPE9MM7ZIBlnNSL_FbRv3xdWihacn0QZ"
      ],
      "metadata": {
        "colab": {
          "base_uri": "https://localhost:8080/"
        },
        "id": "L8jIWJqxHodL",
        "outputId": "e28b37f8-5e69-47bf-c33c-a82b85a9c9d1"
      },
      "execution_count": 23,
      "outputs": [
        {
          "output_type": "stream",
          "name": "stdout",
          "text": [
            "--2024-06-14 14:39:15--  https://drive.google.com/file/d/1zaXBMFZm-nr9XyRuAtCb1oiYI52WDstL/view?usp=sharing\n",
            "Resolving drive.google.com (drive.google.com)... 74.125.204.101, 74.125.204.100, 74.125.204.138, ...\n",
            "Connecting to drive.google.com (drive.google.com)|74.125.204.101|:443... connected.\n",
            "HTTP request sent, awaiting response... 200 OK\n",
            "Length: unspecified [text/html]\n",
            "Saving to: ‘view?usp=sharing’\n",
            "\n",
            "view?usp=sharing        [ <=>                ]  87.82K  --.-KB/s    in 0.03s   \n",
            "\n",
            "2024-06-14 14:39:16 (3.13 MB/s) - ‘view?usp=sharing’ saved [89926]\n",
            "\n"
          ]
        }
      ]
    },
    {
      "cell_type": "code",
      "source": [
        "source_file = open(\"uc?export=download&id=1UPE9MM7ZIBlnNSL_FbRv3xdWihacn0QZ\", \"r\")"
      ],
      "metadata": {
        "id": "e7LGKYDH86D9"
      },
      "execution_count": 22,
      "outputs": []
    },
    {
      "cell_type": "code",
      "source": [
        "citibike_reader = csv.DictReader(source_file)"
      ],
      "metadata": {
        "id": "hQOpRf7yMNsY"
      },
      "execution_count": 24,
      "outputs": []
    },
    {
      "cell_type": "code",
      "source": [
        "print(citibike_reader.fieldnames)"
      ],
      "metadata": {
        "colab": {
          "base_uri": "https://localhost:8080/"
        },
        "id": "e1C4gn6JMggT",
        "outputId": "341b3a2f-99a6-4539-8e29-6def3e4e99ac"
      },
      "execution_count": 25,
      "outputs": [
        {
          "output_type": "stream",
          "name": "stdout",
          "text": [
            "['tripduration', 'starttime', 'stoptime', 'start station id', 'start station name', 'start station latitude', 'start station longitude', 'end station id', 'end station name', 'end station latitude', 'end station longitude', 'bikeid', 'usertype', 'birth year', 'gender']\n"
          ]
        }
      ]
    },
    {
      "cell_type": "code",
      "source": [
        "type(citibike_reader)"
      ],
      "metadata": {
        "colab": {
          "base_uri": "https://localhost:8080/",
          "height": 121
        },
        "id": "jeqMqvESNOZE",
        "outputId": "c5125d0f-e96f-4190-ff58-870a70b0237e"
      },
      "execution_count": 26,
      "outputs": [
        {
          "output_type": "execute_result",
          "data": {
            "text/plain": [
              "csv.DictReader"
            ],
            "text/html": [
              "<div style=\"max-width:800px; border: 1px solid var(--colab-border-color);\"><style>\n",
              "      pre.function-repr-contents {\n",
              "        overflow-x: auto;\n",
              "        padding: 8px 12px;\n",
              "        max-height: 500px;\n",
              "      }\n",
              "\n",
              "      pre.function-repr-contents.function-repr-contents-collapsed {\n",
              "        cursor: pointer;\n",
              "        max-height: 100px;\n",
              "      }\n",
              "    </style>\n",
              "    <pre style=\"white-space: initial; background:\n",
              "         var(--colab-secondary-surface-color); padding: 8px 12px;\n",
              "         border-bottom: 1px solid var(--colab-border-color);\"><b>csv.DictReader</b><br/>def __init__(f, fieldnames=None, restkey=None, restval=None, dialect=&#x27;excel&#x27;, *args, **kwds)</pre><pre class=\"function-repr-contents function-repr-contents-collapsed\" style=\"\"><a class=\"filepath\" style=\"display:none\" href=\"#\">/usr/lib/python3.10/csv.py</a>&lt;no docstring&gt;</pre>\n",
              "      <script>\n",
              "      if (google.colab.kernel.accessAllowed && google.colab.files && google.colab.files.view) {\n",
              "        for (const element of document.querySelectorAll('.filepath')) {\n",
              "          element.style.display = 'block'\n",
              "          element.onclick = (event) => {\n",
              "            event.preventDefault();\n",
              "            event.stopPropagation();\n",
              "            google.colab.files.view(element.textContent, 80);\n",
              "          };\n",
              "        }\n",
              "      }\n",
              "      for (const element of document.querySelectorAll('.function-repr-contents')) {\n",
              "        element.onclick = (event) => {\n",
              "          event.preventDefault();\n",
              "          event.stopPropagation();\n",
              "          element.classList.toggle('function-repr-contents-collapsed');\n",
              "        };\n",
              "      }\n",
              "      </script>\n",
              "      </div>"
            ]
          },
          "metadata": {},
          "execution_count": 26
        }
      ]
    }
  ]
}