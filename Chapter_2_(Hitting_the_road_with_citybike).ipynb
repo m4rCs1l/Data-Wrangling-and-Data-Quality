{
  "nbformat": 4,
  "nbformat_minor": 0,
  "metadata": {
    "colab": {
      "provenance": [],
      "mount_file_id": "1Jp1eV_F9HHBBSbiBrpnuECNtLtIvMavC",
      "authorship_tag": "ABX9TyMK5qBPPr2G1toH+SFoP3vP",
      "include_colab_link": true
    },
    "kernelspec": {
      "name": "python3",
      "display_name": "Python 3"
    },
    "language_info": {
      "name": "python"
    }
  },
  "cells": [
    {
      "cell_type": "markdown",
      "metadata": {
        "id": "view-in-github",
        "colab_type": "text"
      },
      "source": [
        "<a href=\"https://colab.research.google.com/github/m4rCs1l/Data-Wrangling-and-Data-Quality/blob/main/Chapter_2_(Hitting_the_road_with_citybike).ipynb\" target=\"_parent\"><img src=\"https://colab.research.google.com/assets/colab-badge.svg\" alt=\"Open In Colab\"/></a>"
      ]
    },
    {
      "cell_type": "markdown",
      "source": [
        "1. Locating or collecting data\n",
        "2. Assessing the data’s quality\n",
        "3. “Cleaning,” standardizing, and/or transforming the data\n",
        "4. Analyzing the data\n",
        "5. Visualizing the data\n",
        "6. Communicating the data"
      ],
      "metadata": {
        "id": "V0W24jIS82Gb"
      }
    },
    {
      "cell_type": "markdown",
      "source": [
        "For this exercise, we’re going to focus on steps 1–4, though as you’ll see,\n",
        "I’ve done some preparation that will cut down on how long we spend with\n",
        "certain steps. For example, I’ve already located the Citi Bike system data\n",
        "and downloaded the September 2020 trip history data, confirmed that the\n",
        "only values that appear in the User Type column are Customer and\n",
        "Subscriber, and cut down the whole September dataset to just the rides\n",
        "that began on September 1, 2020."
      ],
      "metadata": {
        "id": "XziJrquH9ICJ"
      }
    },
    {
      "cell_type": "markdown",
      "source": [
        "One of the best ways to get started with a data wrangling project of any size\n",
        "is to plan out your approach in advance and include that program outline in\n",
        "you Python file through a process known as pseudocoding"
      ],
      "metadata": {
        "id": "bnfa5ewgBJH0"
      }
    },
    {
      "cell_type": "markdown",
      "source": [
        "1. State my question.\n",
        "2. Describe how I will “answer” my question.\n",
        "3. Outline in plain language the steps my program will take."
      ],
      "metadata": {
        "id": "Rs567UDYBSu6"
      }
    },
    {
      "cell_type": "markdown",
      "source": [
        "**question**: How many Citi Bike rides each day are taken by\n",
        "\"subscribers\" versus \"customers\"?\n",
        "\n",
        "\n",
        "**answer**: Choose a single day of rides to examine.\n",
        "the dataset used for this exercise was generated from the\n",
        "original\n",
        "Citi Bike system data found here:\n",
        "https://s3.amazonaws.com/tripdata/index.html\n",
        "filename: 202009-citibike-tripdata.csv.zip\n",
        "\n",
        "\n",
        "**program Outline:**\n",
        "1. read in the data file: 202009CitibikeTripdataExample.csv\n",
        "2. create variables to count: subscribers, customers, and other\n",
        "3. for each row in the file:\n",
        "\n",
        "    a. If the \"User Type\" is \"Subscriber,\" add 1 to\n",
        "\"subscriber_count\"\n",
        "\n",
        "    b. If the \"User Type\" is \"Customer,\" add 1 to\n",
        "\"customer_count\"\n",
        "\n",
        "    c. Otherwise, add 1 to the \"other\" variable\n",
        "4. print out my results"
      ],
      "metadata": {
        "id": "9RCQMG5fBfQ7"
      }
    },
    {
      "cell_type": "code",
      "source": [
        "import csv"
      ],
      "metadata": {
        "id": "mtHq0nUlBIky"
      },
      "execution_count": null,
      "outputs": []
    },
    {
      "cell_type": "markdown",
      "source": [
        "# STEP 1"
      ],
      "metadata": {
        "id": "aodSUHraPug9"
      }
    },
    {
      "cell_type": "markdown",
      "source": [
        "open the `202009CitibikeTripdataExample.csv` file in read (\"r\")\n",
        "mode"
      ],
      "metadata": {
        "id": "ZDl07kspEZAi"
      }
    },
    {
      "cell_type": "code",
      "source": [
        "!wget \"https://drive.google.com/uc?export=download&id=1UPE9MM7ZIBlnNSL_FbRv3xdWihacn0QZ\"\n",
        "# https://drive.google.com/file/d/1zaXBMFZm-nr9XyRuAtCb1oiYI52WDstL/view?usp=sharing\n",
        "# https://drive.google.com/uc?export=download&id=1UPE9MM7ZIBlnNSL_FbRv3xdWihacn0QZ"
      ],
      "metadata": {
        "colab": {
          "base_uri": "https://localhost:8080/"
        },
        "id": "L8jIWJqxHodL",
        "outputId": "af85012c-600b-4c66-d4bb-48fff5f44e2a"
      },
      "execution_count": 50,
      "outputs": [
        {
          "output_type": "stream",
          "name": "stdout",
          "text": [
            "--2024-06-14 15:12:56--  https://drive.google.com/uc?export=download&id=1UPE9MM7ZIBlnNSL_FbRv3xdWihacn0QZ\n",
            "Resolving drive.google.com (drive.google.com)... 74.125.204.101, 74.125.204.138, 74.125.204.100, ...\n",
            "Connecting to drive.google.com (drive.google.com)|74.125.204.101|:443... connected.\n",
            "HTTP request sent, awaiting response... 303 See Other\n",
            "Location: https://drive.usercontent.google.com/download?id=1UPE9MM7ZIBlnNSL_FbRv3xdWihacn0QZ&export=download [following]\n",
            "--2024-06-14 15:12:57--  https://drive.usercontent.google.com/download?id=1UPE9MM7ZIBlnNSL_FbRv3xdWihacn0QZ&export=download\n",
            "Resolving drive.usercontent.google.com (drive.usercontent.google.com)... 74.125.203.132, 2404:6800:4008:c03::84\n",
            "Connecting to drive.usercontent.google.com (drive.usercontent.google.com)|74.125.203.132|:443... connected.\n",
            "HTTP request sent, awaiting response... 200 OK\n",
            "Length: 13781095 (13M) [application/octet-stream]\n",
            "Saving to: ‘uc?export=download&id=1UPE9MM7ZIBlnNSL_FbRv3xdWihacn0QZ.1’\n",
            "\n",
            "uc?export=download& 100%[===================>]  13.14M  --.-KB/s    in 0.1s    \n",
            "\n",
            "2024-06-14 15:13:00 (129 MB/s) - ‘uc?export=download&id=1UPE9MM7ZIBlnNSL_FbRv3xdWihacn0QZ.1’ saved [13781095/13781095]\n",
            "\n"
          ]
        }
      ]
    },
    {
      "cell_type": "code",
      "source": [
        "source_file = open(\"uc?export=download&id=1UPE9MM7ZIBlnNSL_FbRv3xdWihacn0QZ.1\", \"r\")"
      ],
      "metadata": {
        "id": "e7LGKYDH86D9"
      },
      "execution_count": 51,
      "outputs": []
    },
    {
      "cell_type": "code",
      "source": [
        "citibike_reader = csv.DictReader(source_file)"
      ],
      "metadata": {
        "id": "hQOpRf7yMNsY"
      },
      "execution_count": 52,
      "outputs": []
    },
    {
      "cell_type": "code",
      "source": [
        "print(citibike_reader.fieldnames)"
      ],
      "metadata": {
        "colab": {
          "base_uri": "https://localhost:8080/"
        },
        "id": "e1C4gn6JMggT",
        "outputId": "23114915-e1e1-4c12-b1b9-19f421d62c91"
      },
      "execution_count": 53,
      "outputs": [
        {
          "output_type": "stream",
          "name": "stdout",
          "text": [
            "['tripduration', 'starttime', 'stoptime', 'start station id', 'start station name', 'start station latitude', 'start station longitude', 'end station id', 'end station name', 'end station latitude', 'end station longitude', 'bikeid', 'usertype', 'birth year', 'gender']\n"
          ]
        }
      ]
    },
    {
      "cell_type": "code",
      "source": [
        "type(citibike_reader)"
      ],
      "metadata": {
        "colab": {
          "base_uri": "https://localhost:8080/",
          "height": 121
        },
        "id": "jeqMqvESNOZE",
        "outputId": "0f2703cc-3b22-4417-ba3a-3f6a482d7c35"
      },
      "execution_count": 54,
      "outputs": [
        {
          "output_type": "execute_result",
          "data": {
            "text/plain": [
              "csv.DictReader"
            ],
            "text/html": [
              "<div style=\"max-width:800px; border: 1px solid var(--colab-border-color);\"><style>\n",
              "      pre.function-repr-contents {\n",
              "        overflow-x: auto;\n",
              "        padding: 8px 12px;\n",
              "        max-height: 500px;\n",
              "      }\n",
              "\n",
              "      pre.function-repr-contents.function-repr-contents-collapsed {\n",
              "        cursor: pointer;\n",
              "        max-height: 100px;\n",
              "      }\n",
              "    </style>\n",
              "    <pre style=\"white-space: initial; background:\n",
              "         var(--colab-secondary-surface-color); padding: 8px 12px;\n",
              "         border-bottom: 1px solid var(--colab-border-color);\"><b>csv.DictReader</b><br/>def __init__(f, fieldnames=None, restkey=None, restval=None, dialect=&#x27;excel&#x27;, *args, **kwds)</pre><pre class=\"function-repr-contents function-repr-contents-collapsed\" style=\"\"><a class=\"filepath\" style=\"display:none\" href=\"#\">/usr/lib/python3.10/csv.py</a>&lt;no docstring&gt;</pre>\n",
              "      <script>\n",
              "      if (google.colab.kernel.accessAllowed && google.colab.files && google.colab.files.view) {\n",
              "        for (const element of document.querySelectorAll('.filepath')) {\n",
              "          element.style.display = 'block'\n",
              "          element.onclick = (event) => {\n",
              "            event.preventDefault();\n",
              "            event.stopPropagation();\n",
              "            google.colab.files.view(element.textContent, 80);\n",
              "          };\n",
              "        }\n",
              "      }\n",
              "      for (const element of document.querySelectorAll('.function-repr-contents')) {\n",
              "        element.onclick = (event) => {\n",
              "          event.preventDefault();\n",
              "          event.stopPropagation();\n",
              "          element.classList.toggle('function-repr-contents-collapsed');\n",
              "        };\n",
              "      }\n",
              "      </script>\n",
              "      </div>"
            ]
          },
          "metadata": {},
          "execution_count": 54
        }
      ]
    },
    {
      "cell_type": "markdown",
      "source": [
        "# STEP 2"
      ],
      "metadata": {
        "id": "e9BExVJVPyoa"
      }
    },
    {
      "cell_type": "markdown",
      "source": [
        "Creating counter for each type of Citi Bike Users"
      ],
      "metadata": {
        "id": "uRie_pMzP9E9"
      }
    },
    {
      "cell_type": "code",
      "source": [
        "customers_counter = 0\n",
        "subscribers_counter = 0\n",
        "others_counter = 0\n",
        "steps = 0"
      ],
      "metadata": {
        "id": "b-8SH436P2wL"
      },
      "execution_count": 55,
      "outputs": []
    },
    {
      "cell_type": "markdown",
      "source": [
        "# STEP 3"
      ],
      "metadata": {
        "id": "RQ5YutglQVL5"
      }
    },
    {
      "cell_type": "markdown",
      "source": [
        "iterate through all rows"
      ],
      "metadata": {
        "id": "h5BKaobFQpkk"
      }
    },
    {
      "cell_type": "code",
      "source": [
        "for track_row in citibike_reader:\n",
        "\n",
        "    if track_row['usertype'] == \"Subscriber\":\n",
        "        subscribers_counter += 1\n",
        "\n",
        "    elif track_row['usertype'] == \"Customer\":\n",
        "        customers_counter += 1\n",
        "\n",
        "    else:\n",
        "        others_counter += 1\n",
        "\n",
        "    steps += 1"
      ],
      "metadata": {
        "id": "fGRVnfvrQZZ7"
      },
      "execution_count": 56,
      "outputs": []
    },
    {
      "cell_type": "code",
      "source": [
        "steps"
      ],
      "metadata": {
        "colab": {
          "base_uri": "https://localhost:8080/"
        },
        "id": "1-iuBV2bTLZB",
        "outputId": "bbcfa93b-83b0-4e25-a552-1244af9b92c8"
      },
      "execution_count": 57,
      "outputs": [
        {
          "output_type": "execute_result",
          "data": {
            "text/plain": [
              "76674"
            ]
          },
          "metadata": {},
          "execution_count": 57
        }
      ]
    },
    {
      "cell_type": "markdown",
      "source": [
        "# STEP 4"
      ],
      "metadata": {
        "id": "Y8dp6-ruSL4M"
      }
    },
    {
      "cell_type": "code",
      "source": [
        "print(\"Number of subscribers:\", end=' ')\n",
        "print(subscribers_counter)\n",
        "print(\"Number of customers:\", end=' ')\n",
        "print(customers_counter)\n",
        "print(\"Number of 'other' users:\", end=' ')\n",
        "print(others_counter)\n"
      ],
      "metadata": {
        "colab": {
          "base_uri": "https://localhost:8080/"
        },
        "id": "scid4699SQty",
        "outputId": "210a4c5b-561c-40df-947e-f17fe38795a5"
      },
      "execution_count": 58,
      "outputs": [
        {
          "output_type": "stream",
          "name": "stdout",
          "text": [
            "Number of subscribers: 58961\n",
            "Number of customers: 17713\n",
            "Number of 'other' users: 0\n"
          ]
        }
      ]
    }
  ]
}