{
  "nbformat": 4,
  "nbformat_minor": 0,
  "metadata": {
    "colab": {
      "provenance": [],
      "authorship_tag": "ABX9TyOHl/SsMEYHA/ZnvCLn/mPA",
      "include_colab_link": true
    },
    "kernelspec": {
      "name": "python3",
      "display_name": "Python 3"
    },
    "language_info": {
      "name": "python"
    }
  },
  "cells": [
    {
      "cell_type": "markdown",
      "metadata": {
        "id": "view-in-github",
        "colab_type": "text"
      },
      "source": [
        "<a href=\"https://colab.research.google.com/github/m4rCs1l/Data-Wrangling-and-Data-Quality/blob/main/book_brief.ipynb\" target=\"_parent\"><img src=\"https://colab.research.google.com/assets/colab-badge.svg\" alt=\"Open In Colab\"/></a>"
      ]
    },
    {
      "cell_type": "markdown",
      "source": [
        "# **Data wrangling**\n",
        "\n",
        "is the process of taking “raw” or “found” data, and\n",
        "transforming it into something that can be used to generate insight and\n",
        "meaning"
      ],
      "metadata": {
        "id": "B-DLt8Rz1j_f"
      }
    },
    {
      "cell_type": "markdown",
      "source": [
        "To attempt data wrangling\n",
        "without considering data quality is like trying drive a car without steering wheel"
      ],
      "metadata": {
        "id": "feJFeoVh3wKM"
      }
    },
    {
      "cell_type": "markdown",
      "source": [
        "in principle data wrangling\n",
        "involves some or all of the following steps:\n",
        "1. Locating or collecting data\n",
        "2. Reviewing the data\n",
        "3. “Cleaning,” standardizing, transforming, and/or augmenting the\n",
        "data\n",
        "4. Analyzing the data\n",
        "5. Visualizing the data\n",
        "6. Communicating the data"
      ],
      "metadata": {
        "id": "3yVudgiq3-qp"
      }
    },
    {
      "cell_type": "markdown",
      "source": [
        "Also, know that, despite my having numbered the preceding list, the data\n",
        "wrangling process is really more of a cycle than it is a linear set of steps"
      ],
      "metadata": {
        "id": "-GCrNW3V5XSq"
      }
    },
    {
      "cell_type": "markdown",
      "source": [
        "it would be a little more accurate to\n",
        "start each of the steps with Researching and."
      ],
      "metadata": {
        "id": "jH-RTET25plV"
      }
    },
    {
      "cell_type": "markdown",
      "source": [
        "And if you’re working through your own data\n",
        "wrangling project and start to feel a little lost, just keep reminding yourself\n",
        "of the question you are trying to answer"
      ],
      "metadata": {
        "id": "1CzWejUf6hyG"
      }
    },
    {
      "cell_type": "markdown",
      "source": [
        "# Data Quality\n",
        "\n",
        "\n",
        "1.   **Data Integrity** (In general, data that is complete,\n",
        "atomic, and well-annotated—among other things—is considered to be of\n",
        "higher integrity because these characteristics make it possible to do a wider\n",
        "range of more conclusive analyses. While this often means augmenting a given dataset by\n",
        "finding others that can complement, contextualize, or extend it, it almost\n",
        "always means looking beyond “data” of any kind and reaching out to\n",
        "experts: the people who designed the data, collected it, have worked with it\n",
        "previously, or know a lot about the subject area your data is supposed to\n",
        "address.)\n",
        "\n",
        "\n",
        "1.   **Data Fitness** (Even a dataset that has excellent integrity, however, cannot be considered\n",
        "high quality unless it is also appropriate for your particular purpose. There’s no way to bypass this time investment, however: shortcuts\n",
        "when it comes to either data integrity or data fit will inevitably compromise\n",
        "the quality and relevance of your data wrangling work overall. For example, using data that describes one\n",
        "phenomenon (such as income) to try to answer questions about a potentially\n",
        "related—but fundamentally different—phenomenon (like educational\n",
        "attainment) can lead to distorted conclusions about what is happening in the\n",
        "world, with sometimes devastating consequences)\n",
        "\n",
        "\n"
      ],
      "metadata": {
        "id": "8XIQdc4o8Lh8"
      }
    },
    {
      "cell_type": "markdown",
      "source": [
        "Data Diary (the key thing is to capture what\n",
        "you are doing as you are doing it. The first entry in your “diary” for any data wrangling project should be the\n",
        "question (as a **single** sentence) you are trying to answer. Because the process of real data wrangling will inevitably lead\n",
        "you down enough “rabbit holes”)"
      ],
      "metadata": {
        "id": "hKZx8x4NYy4i"
      }
    },
    {
      "cell_type": "code",
      "execution_count": null,
      "metadata": {
        "id": "wBFCLKEQ1cY2"
      },
      "outputs": [],
      "source": []
    }
  ]
}