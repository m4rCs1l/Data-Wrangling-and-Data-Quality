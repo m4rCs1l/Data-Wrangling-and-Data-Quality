{
  "nbformat": 4,
  "nbformat_minor": 0,
  "metadata": {
    "colab": {
      "provenance": [],
      "authorship_tag": "ABX9TyMEPw5f3l/5DpEAkFXv7vj7",
      "include_colab_link": true
    },
    "kernelspec": {
      "name": "python3",
      "display_name": "Python 3"
    },
    "language_info": {
      "name": "python"
    }
  },
  "cells": [
    {
      "cell_type": "markdown",
      "metadata": {
        "id": "view-in-github",
        "colab_type": "text"
      },
      "source": [
        "<a href=\"https://colab.research.google.com/github/m4rCs1l/Data-Wrangling-and-Data-Quality/blob/main/Chapter3.ipynb\" target=\"_parent\"><img src=\"https://colab.research.google.com/assets/colab-badge.svg\" alt=\"Open In Colab\"/></a>"
      ]
    },
    {
      "cell_type": "markdown",
      "source": [
        "# **Data Fitness** (the appropriateness of data for use in a particular context, or to answer a particular question.)"
      ],
      "metadata": {
        "id": "_y_pggojf1gU"
      }
    },
    {
      "cell_type": "markdown",
      "source": [
        "the documentation\n",
        "in your data diary is actually irreplaceable. The conclusion that you\n",
        "reach about a dataset being representative or valid will, in most cases,\n",
        "be informed by everything from your own reading and research to\n",
        "conversations with experts to additional datasets you’ve located. But\n",
        "without good documentation of who said what or how you came across\n",
        "the information, any attempt to repeat or confirm your previous work\n",
        "will almost certainly fail."
      ],
      "metadata": {
        "id": "jUDHiiPPf7Gj"
      }
    },
    {
      "cell_type": "markdown",
      "source": [
        "## Assessing Data Fit"
      ],
      "metadata": {
        "id": "TLmybJyVHvu7"
      }
    },
    {
      "cell_type": "markdown",
      "source": [
        "Perhaps one of the most common misconceptions about data wrangling is\n",
        "that it is a predominantly quantitative process, that is, that data wrangling is\n",
        "mostly about working with numbers, formulas, and code. In fact,\n",
        "irrespective of the type of data you’re dealing with—it could be anything\n",
        "3\n",
        "from temperature readings to social media posts—the core work of data\n",
        "wrangling involves making judgment calls: from whether your data\n",
        "accurately represents the phenomenon you’re investigating, to what to do\n",
        "about missing data points and whether you have enough data to generate\n",
        "any real insight at all. That first concept—the extent to which a given\n",
        "dataset accurately represents the phenomenon you’re investigating—is\n",
        "broadly what I mean by its fit, and assessing your dataset’s fitness for\n",
        "purpose is much more about applying informed judgment than it is about\n",
        "applying mathematical formulas"
      ],
      "metadata": {
        "id": "Iv7GI7A6Ig9e"
      }
    },
    {
      "cell_type": "markdown",
      "source": [
        "when you begin the\n",
        "process of trying to answer a question with data, it’s not enough to know\n",
        "just what is in the dataset; you need to know about the processes and\n",
        "mechanisms used to collect it."
      ],
      "metadata": {
        "id": "y3jnUObFJQ7X"
      }
    },
    {
      "cell_type": "markdown",
      "source": [
        "Because of this, over time the\n",
        "scientific community has developed three key metrics for determining the\n",
        "appropriateness or fit of a dataset for answering a given question: **validity**,\n",
        "**reliability**, and **representativeness**."
      ],
      "metadata": {
        "id": "7aAXBfEUJjDH"
      }
    },
    {
      "cell_type": "markdown",
      "source": [
        "## Validity"
      ],
      "metadata": {
        "id": "lI4EXDIVKpAg"
      }
    },
    {
      "cell_type": "markdown",
      "source": [
        "validity describes the extent to which something measures\n",
        "what it is supposed to"
      ],
      "metadata": {
        "id": "mGpxN0HlKvW5"
      }
    },
    {
      "cell_type": "markdown",
      "source": [
        "In our room temperature example, this would mean\n",
        "ensuring that the type of thermometer you’ve chosen will actually measure\n",
        "the air temperature rather than something else. For example, while\n",
        "traditional liquid-in-glass thermometers will probably capture air\n",
        "temperature well, infrared thermometers will tend to capture the\n",
        "temperature of whatever surface they’re pointed at"
      ],
      "metadata": {
        "id": "XIvGncrVMdJO"
      }
    },
    {
      "cell_type": "markdown",
      "source": [
        "Unsurprisingly, things only get more involved when we’re not collecting\n",
        "data about common physical phenomena. **Construct validity** describes the\n",
        "extent to which your data measurements effectively capture the (usually\n",
        "abstract) construct, or idea, you’re trying to understand"
      ],
      "metadata": {
        "id": "Xx5nJ-QHM2HO"
      }
    },
    {
      "cell_type": "markdown",
      "source": [
        "In data analysis, this process of selecting measures is known as\n",
        "**operationalizing a construct**, and it inevitably requires choosing among—\n",
        "and balancing—proxies for the idea or concept you are trying to\n",
        "understand. These proxies—like graduation rates, test scores,\n",
        "extracurricular activities, and so on—are things about which you can collect\n",
        "data that you are choosing to use to represent an **abstract concept** (“best”\n",
        "school) that cannot be measured directly. Good-quality data, to say the\n",
        "least, must have good **construct validity** with respect to your question,\n",
        "otherwise your data wrangling results will be meaningless."
      ],
      "metadata": {
        "id": "xB6J-eZ-GH7n"
      }
    },
    {
      "cell_type": "markdown",
      "source": [
        "So you need to define an abstract concept, operationalize it (choose proxies, with respect to construct validity), select measures which can describe proxies (with respect to content validity)\n"
      ],
      "metadata": {
        "id": "H52kQjmgQvXZ"
      }
    },
    {
      "cell_type": "markdown",
      "source": [
        "**Content validity**.  This type of validity has to do with ***how complete*** your data is for a given\n",
        "proxy measurement"
      ],
      "metadata": {
        "id": "TxZUqXHKIstR"
      }
    },
    {
      "cell_type": "markdown",
      "source": [
        "***Construct validity : FALSE***\n",
        "\n",
        "Suppose a researcher develops a questionnaire to measure the stress levels of office workers. The researcher decides to **use questions that assess only the amount of time spent at work as the main indicator of stress**. BUT! Stress levels are a multifaceted construct that includes not only the amount of work time but also sleep quality, physical and mental health, personal relationships, support from colleagues, and more. So if we try to validate the questionnaire by comparing its results with other established methods of measuring stress (e.g., physiological measures like cortisol levels) or expert assessments, we'll see many differencies"
      ],
      "metadata": {
        "id": "QT-OEUathbev"
      }
    },
    {
      "cell_type": "markdown",
      "source": [
        "***Content validity : FALSE***\n",
        "\n",
        "Suppose the same case as in construct invalidity. Researcher wants to measure \"physical health\". But only include индекс массы тела as data. But there are way more factors affecting \"physical health\"."
      ],
      "metadata": {
        "id": "zDn-ydZfioWw"
      }
    },
    {
      "cell_type": "markdown",
      "source": [
        "## Reliability"
      ],
      "metadata": {
        "id": "E1r5MLMBdka-"
      }
    },
    {
      "cell_type": "markdown",
      "source": [
        "Within a dataset, the reliability of a given measure describes its accuracy\n",
        "and stability. Together, these help us assess whether the same measure taken\n",
        "twice in the same circumstances will give us the same—or at least very\n",
        "similar—results"
      ],
      "metadata": {
        "id": "34DYhM69duyk"
      }
    },
    {
      "cell_type": "markdown",
      "source": [
        "With abstract concepts and real-world data, determining the reliability of a\n",
        "data measure is especially tricky, because it is never really possible to\n",
        "collect the data more than once—whether because the cost is prohibitive,\n",
        "the circumstances can’t be replicated, or both. In those cases, we typically\n",
        "estimate reliability by comparing one similar group to another, using either\n",
        "previously or newly collected data."
      ],
      "metadata": {
        "id": "rLNEO9pFd6NS"
      }
    },
    {
      "cell_type": "markdown",
      "source": [
        "Example: Unreliable Data\n",
        "\n",
        "A manufacturing plant uses sensors to monitor the temperature of machinery to ensure optimal operating conditions and prevent overheating. High frequency of errors due to environmental interference (sensor is placed near door, so the temperature of machinery is higher than measured)"
      ],
      "metadata": {
        "id": "IPCqnjJSU8v-"
      }
    },
    {
      "cell_type": "markdown",
      "source": [
        "## Representativeness"
      ],
      "metadata": {
        "id": "hpYeftOcrx_X"
      }
    },
    {
      "cell_type": "markdown",
      "source": [
        "The key value proposition for data-driven systems is that they allow us to\n",
        "generate insights—or even predictions—about people and phenomena that\n",
        "are too massive or too complex for humans to reason about effectively. Whether those insights are an accurate portrait of\n",
        "a particular population or situation, however, depends directly on the\n",
        "representativeness of the data being used"
      ],
      "metadata": {
        "id": "GcCY01assB1U"
      }
    },
    {
      "cell_type": "markdown",
      "source": [
        "Whether a dataset is sufficiently representative depends on a few things, the\n",
        "most significant of which goes back to the “for whom?” question"
      ],
      "metadata": {
        "id": "bTh40eKNsDEm"
      }
    },
    {
      "cell_type": "markdown",
      "source": [
        "Anytime you’re working with a subset or sample in this way, it’s crucial to\n",
        "make sure that it is representative of the broader population to which you\n",
        "plan to apply your findings. While proper sampling methodology is beyond\n",
        "the scope of this book, the basic idea is that in order for your insights to\n",
        "accurately generalize to a particular community of people, the data sample\n",
        "you use must proportionally reflect that community’s makeup. That means\n",
        "that you need to invest the time and resources to understand a number of\n",
        "things about that community as a whole before you can even know if your\n",
        "sample is representative."
      ],
      "metadata": {
        "id": "qFS3CVKNtFLk"
      }
    },
    {
      "cell_type": "markdown",
      "source": [
        "As you can see, ensuring representativeness demands that we carefully\n",
        "consider which characteristics of a population are relevant to our data\n",
        "wrangling question and that we seek out enough additional information to\n",
        "ensure that our dataset proportionally represents those characteristics"
      ],
      "metadata": {
        "id": "qn9ga50nuenl"
      }
    },
    {
      "cell_type": "markdown",
      "source": [
        "For example, data about search engine trends, social\n",
        "media activity, public transit usage, or smartphone ownership, for example,\n",
        "are all extremely unlikely to be representative of the broader population,\n",
        "since they are inevitably influenced by things like internet access and\n",
        "income level ***(so it will be very delusional if you try to generate some insights about \"percentage of different languages in the World\" from \"languages in USA\")***. This means that communities are overrepresented in these\n",
        "datasets while others are (sometimes severely) underrepresented. The result\n",
        "is systems that don’t generalize—like facial recognition systems that cannot\n",
        "“see” Black faces."
      ],
      "metadata": {
        "id": "uquwnt-ru32q"
      }
    },
    {
      "cell_type": "markdown",
      "source": [
        "If you are faced with nonrepresentative data, what do you do? At the very\n",
        "least, you will need to revise (and clearly communicate) your “for whom?”\n",
        "assessment to reflect whatever population it does represent; this is the only\n",
        "community for whom your data wrangling insights will be valid"
      ],
      "metadata": {
        "id": "lP50Cs2QffoO"
      }
    },
    {
      "cell_type": "markdown",
      "source": [],
      "metadata": {
        "id": "AFYbPuW7WWmo"
      }
    },
    {
      "cell_type": "markdown",
      "source": [
        "# **Data Integrity**"
      ],
      "metadata": {
        "id": "5DXNhB9FWXC_"
      }
    },
    {
      "cell_type": "markdown",
      "source": [
        "Data integrity is\n",
        "about whether the data you have can support the analyses you’ll need to\n",
        "perform in order to answer that question"
      ],
      "metadata": {
        "id": "9wTEODr1W3Kf"
      }
    },
    {
      "cell_type": "markdown",
      "source": [
        "In general, a high-integrity dataset will, to one degree or another, be:\n",
        "\n",
        "\n",
        "**Necessary, but not sufficient**\n",
        "\n",
        "\n",
        "\n",
        "*   Of known provenance\n",
        "*   Well-annotated\n",
        "\n",
        "\n",
        "\n",
        "\n",
        "**Important**\n",
        "\n",
        "\n",
        "\n",
        "\n",
        "*   Timely\n",
        "*   Complete\n",
        "*   High Volume\n",
        "*   Multivariate\n",
        "*   Atomic\n",
        "\n",
        "\n",
        "Achievable\n",
        "\n",
        "\n",
        "\n",
        "*   Consistent\n",
        "*   Clear\n",
        "*   Dimensionally structured\n",
        "\n",
        "\n",
        "\n",
        "\n",
        "\n",
        "\n",
        "\n",
        "\n",
        "\n",
        "\n",
        "\n",
        "\n"
      ],
      "metadata": {
        "id": "fU_PPkClbq0k"
      }
    },
    {
      "cell_type": "markdown",
      "source": [
        "## Necessary but not sufficient"
      ],
      "metadata": {
        "id": "_kML8lE7CslU"
      }
    },
    {
      "cell_type": "markdown",
      "source": [
        "### Of known provenance"
      ],
      "metadata": {
        "id": "rML8ofOkDM5s"
      }
    },
    {
      "cell_type": "markdown",
      "source": [
        "This means that using a dataset\n",
        "collected by others requires putting a significant amount of trust in them"
      ],
      "metadata": {
        "id": "hX5Ll1UdDnrV"
      }
    },
    {
      "cell_type": "markdown",
      "source": [
        "This is why knowing the provenance of a dataset is so important: if you\n",
        "don’t know who compiled the data, the methods that they used, and/or the\n",
        "purpose for which they collected it, you will have a very hard time judging\n",
        "whether it is fit for your data wrangling purpose, or how to correctly\n",
        "interpret it."
      ],
      "metadata": {
        "id": "HMSCzmvDDoRP"
      }
    },
    {
      "cell_type": "markdown",
      "source": [
        "you should try to\n",
        "find out enough about data collectors: professional backgrounds, motivations for\n",
        "collecting the data (is it legally mandated, for example?), and the methods\n",
        "they employed so that you have some sense of which measures you’ll want\n",
        "to corroborate versus those that might be okay to take at face value"
      ],
      "metadata": {
        "id": "srYug1u9D8F7"
      }
    },
    {
      "cell_type": "markdown",
      "source": [
        "### Well-annotated"
      ],
      "metadata": {
        "id": "L_u2WxS4EJi1"
      }
    },
    {
      "cell_type": "markdown",
      "source": [
        "A well-annotated dataset has enough surrounding information, or metadata,\n",
        "to make interpretation possible. This will include everything from highlevel\n",
        "explanations of the data collection methodology to the “data\n",
        "dictionaries” that describe each data measure right down to its units."
      ],
      "metadata": {
        "id": "Dp96JjecEcwR"
      }
    },
    {
      "cell_type": "markdown",
      "source": [
        "For\n",
        "example, imagine trying to interpret a budget without knowing if the figures\n",
        "provided refer to dollars, thousands of dollars, or millions of dollars—it’s\n",
        "clearly impossible."
      ],
      "metadata": {
        "id": "Ewvik1GLEsxt"
      }
    },
    {
      "cell_type": "markdown",
      "source": [
        "## Important"
      ],
      "metadata": {
        "id": "tR5A-EqaC_Wg"
      }
    },
    {
      "cell_type": "markdown",
      "source": [
        "### Timely"
      ],
      "metadata": {
        "id": "q4dRWZP9DENZ"
      }
    },
    {
      "cell_type": "markdown",
      "source": [
        "How up to date is the data that you’re using? Unless you’re studying a\n",
        "historical period, ensuring that your data is recent enough to meaningfully\n",
        "describe the current state of the world is important—though how old is “too\n",
        "old” will depend on both the phenomenon you’re exploring and the\n",
        "frequency with which data about it is collected and released. Unless it’s about a field you’re already familiar with, assessing whether\n",
        "your data is timely will likely require some research with experts as well as\n",
        "the data publisher."
      ],
      "metadata": {
        "id": "K6dVCgMADMUR"
      }
    },
    {
      "cell_type": "markdown",
      "source": [
        "### Complete"
      ],
      "metadata": {
        "id": "BeyTshJsD8b6"
      }
    },
    {
      "cell_type": "markdown",
      "source": [
        "Does the dataset contain all of the data values it should? Can we still\n",
        "generate useful data insights when parts of the data are so incomplete? Addressing this question means first answering two others. First, why is the\n",
        "data missing? Second, do you need that data measure in order to perform a\n",
        "specific analysis needed for your data wrangling process? Whatever the reason,\n",
        "discovering why some part of the data is missing is essential in order to\n",
        "know how to proceed. Even truncated data may not be a problem if what we have\n",
        "available covers a sufficient time period for our purposes, but it is still\n",
        "useful to learn the true number of records and date range of the data for\n",
        "context"
      ],
      "metadata": {
        "id": "OIKTL-29D_am"
      }
    },
    {
      "cell_type": "markdown",
      "source": [
        "In other words, while having complete data is always preferable, once you\n",
        "know why that data is missing, you may be able to proceed with your data\n",
        "wrangling process, regardless. But you should always find out—and be sure\n",
        "to document what you learn!"
      ],
      "metadata": {
        "id": "btlBKA7bFGBe"
      }
    },
    {
      "cell_type": "markdown",
      "source": [
        "### High volume"
      ],
      "metadata": {
        "id": "_CNARjlWFVFy"
      }
    },
    {
      "cell_type": "markdown",
      "source": [
        "How many data points are “enough”? At minimum, a dataset will need to\n",
        "have sufficient records to support the type of analysis needed to answer\n",
        "your particular question:\n",
        "\n",
        "if what you need is a count - you need all records,\n",
        "\n",
        "if your question is about general or generalizable patterns or trends - what counts as “enough” is a little less clear (the correct answer is\n",
        "largely about specifying the question correctly—and that requires being, in\n",
        "most cases, very specific.)."
      ],
      "metadata": {
        "id": "dDMlRum9FjOP"
      }
    },
    {
      "cell_type": "markdown",
      "source": [
        "One of the trickiest parts of assessing data “completeness,” however, is that\n",
        "accounting for factors that may influence the trend or pattern you’re\n",
        "investigating is difficult without knowing the subject area pretty well\n",
        "already."
      ],
      "metadata": {
        "id": "43FfQF_XGu81"
      }
    },
    {
      "cell_type": "markdown",
      "source": [
        "The answer—as it is so often—is (human) experts (+ Google Scholar)"
      ],
      "metadata": {
        "id": "30fTu8cMGyFz"
      }
    },
    {
      "cell_type": "markdown",
      "source": [
        "### Multivariate"
      ],
      "metadata": {
        "id": "E5Kqr202HxSy"
      }
    }
  ]
}